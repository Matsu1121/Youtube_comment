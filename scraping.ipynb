{
 "cells": [
  {
   "cell_type": "code",
   "execution_count": null,
   "id": "72479837-cacd-4c57-99d1-fbe2559436ad",
   "metadata": {},
   "outputs": [],
   "source": [
    "# スクレイピングに必要なユーザー名、パスワード、URLなどを消去しているので動きません"
   ]
  },
  {
   "cell_type": "code",
   "execution_count": 1,
   "id": "fdabe3a0-6506-45a0-bf6f-8a35bae4ea29",
   "metadata": {},
   "outputs": [],
   "source": [
    "import pandas as pd\n",
    "import random\n",
    "import time"
   ]
  },
  {
   "cell_type": "code",
   "execution_count": 2,
   "id": "dc13143d-a41d-4228-a637-bd7606d00bd4",
   "metadata": {},
   "outputs": [],
   "source": [
    "# モジュール読み込み\n",
    "import requests\n",
    "from bs4 import BeautifulSoup\n",
    "from selenium import webdriver\n",
    "from selenium.webdriver.chrome import service\n",
    "from selenium.webdriver.common.by import By"
   ]
  },
  {
   "cell_type": "code",
   "execution_count": 3,
   "id": "9000394e-c5dc-4ce5-a548-e57e55654aaa",
   "metadata": {},
   "outputs": [],
   "source": [
    "# ランキングを読み込み\n",
    "ranking = pd.read_csv('', encoding='utf-8-sig', index_col=0)"
   ]
  },
  {
   "cell_type": "code",
   "execution_count": 4,
   "id": "133c6df3-0f8d-4141-b84a-9fb0584bf6ab",
   "metadata": {},
   "outputs": [],
   "source": [
    "log_in_url = \"\"\n",
    "username = ''\n",
    "password = ''"
   ]
  },
  {
   "cell_type": "code",
   "execution_count": 5,
   "id": "87c02f4f-3028-4d42-93cc-4988a4edb7dc",
   "metadata": {},
   "outputs": [],
   "source": [
    "# chromedriver の path\n",
    "CHROMEDRIVER = r\"\"\n",
    "# Chrome起動\n",
    "chrome_service = service.Service(executable_path=CHROMEDRIVER)\n",
    "browser = webdriver.Chrome(service=chrome_service)\n",
    "browser.implicitly_wait(3)\n",
    "# urlにアクセス\n",
    "browser.get(log_in_url)\n",
    "# ログイン\n",
    "elem = browser.find_element(by='id', value='_username')\n",
    "elem.send_keys(username)\n",
    "elem = browser.find_element(by='id', value='_password')\n",
    "elem.send_keys(password)\n",
    "\n",
    "log_in = browser.find_element(by='id', value='log_in')\n",
    "log_in.click()"
   ]
  },
  {
   "cell_type": "code",
   "execution_count": 8,
   "id": "32642e24-bb48-4145-9748-182559ee1725",
   "metadata": {
    "tags": []
   },
   "outputs": [],
   "source": [
    "# idごとに口コミを取得する関数\n",
    "# ブラウザはもう開いている\n",
    "def make_answers_csv(m_id):\n",
    "    \n",
    "    # 口コミ URL の基本形\n",
    "    # 新しい順にしている\n",
    "    answer_url_base = f''\n",
    "\n",
    "    # ページ数\n",
    "    page_num = 1 \n",
    "    # 最大ページ数\n",
    "    max_page = 15\n",
    "\n",
    "\n",
    "    # 口コミの情報を格納するリスト\n",
    "    answers = []\n",
    "\n",
    "    # 最後のページ（または max_page）まで繰り返す\n",
    "    while page_num<max_page:\n",
    "        # ページ数を加える\n",
    "        answer_url = answer_url_base + str(page_num)\n",
    "\n",
    "        # アクセス\n",
    "        browser.get(answer_url)\n",
    "        # 次のアクセスの前にスリープ\n",
    "        time.sleep(random.uniform(1, 3))\n",
    "\n",
    "        # 口コミの要素を取得\n",
    "        elems = browser.find_elements(by='class name', value='article')\n",
    "\n",
    "        # 各口コミごとに情報を格納\n",
    "        for elem in elems:\n",
    "            answer_info_list = elem.text.split('\\n')\n",
    "\n",
    "            title = answer_info_list[1]\n",
    "\n",
    "            date = pd.to_datetime(answer_info_list[2],\n",
    "                                  format='回答日%Y年%m月%d日')\n",
    "\n",
    "            user = answer_info_list[3].replace('回答者 ', '')\n",
    "\n",
    "            score = float(answer_info_list[4])\n",
    "\n",
    "            content = answer_info_list[5:-4]\n",
    "\n",
    "            answers.append([title, date, user, score, content])\n",
    "\n",
    "        # 最後のページなら終了\n",
    "        if browser.find_elements(by='class name', value='paging_link-more')[-1].text != '次へ':\n",
    "            break\n",
    "\n",
    "        page_num += 1\n",
    "        \n",
    "    df_answers = pd.DataFrame(answers)\n",
    "    df_answers.columns = ['title', 'date', 'user', 'score', 'content']\n",
    "    df_answers['m_id'] = m_id\n",
    "    \n",
    "    # 結果をcsvに書き出す\n",
    "    df_answers.to_csv(f'company_answers/answers_{m_id}.csv', encoding='utf-8-sig')"
   ]
  },
  {
   "cell_type": "code",
   "execution_count": null,
   "id": "554912ec-47b1-460a-b94d-88cbf0702c6a",
   "metadata": {},
   "outputs": [],
   "source": [
    "for m_id in ranking['m_id'][:100]:\n",
    "    try:\n",
    "        make_answers_csv(m_id)\n",
    "    except:\n",
    "        pass"
   ]
  },
  {
   "cell_type": "code",
   "execution_count": null,
   "id": "4d700378-bb0f-470a-b28e-846e55f48b03",
   "metadata": {},
   "outputs": [],
   "source": []
  }
 ],
 "metadata": {
  "kernelspec": {
   "display_name": "Python 3",
   "language": "python",
   "name": "python3"
  },
  "language_info": {
   "codemirror_mode": {
    "name": "ipython",
    "version": 3
   },
   "file_extension": ".py",
   "mimetype": "text/x-python",
   "name": "python",
   "nbconvert_exporter": "python",
   "pygments_lexer": "ipython3",
   "version": "3.8.8"
  }
 },
 "nbformat": 4,
 "nbformat_minor": 5
}
