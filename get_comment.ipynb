{
 "cells": [
  {
   "cell_type": "code",
   "execution_count": 1,
   "id": "3cc1d5f6-8d4a-4950-b38b-5e99c25f843d",
   "metadata": {},
   "outputs": [],
   "source": [
    "# Youtubeのライブチャットを取得してcsvに保存する"
   ]
  },
  {
   "cell_type": "code",
   "execution_count": 2,
   "id": "0648cbfe-e837-49e7-b5e0-cf71388f0e78",
   "metadata": {},
   "outputs": [],
   "source": [
    "from chat_downloader import ChatDownloader\n",
    "import pandas as pd\n",
    "from matplotlib import pyplot\n",
    "import matplotlib.pyplot as plt"
   ]
  },
  {
   "cell_type": "code",
   "execution_count": 3,
   "id": "53e67137-31c5-46bf-b72a-3bfb268bce3c",
   "metadata": {
    "tags": []
   },
   "outputs": [
    {
     "name": "stdout",
     "output_type": "stream",
     "text": [
      "Wall time: 29.7 s\n"
     ]
    }
   ],
   "source": [
    "%%time\n",
    "url = 'https://www.youtube.com/watch?v=amEdp1I1ofk'\n",
    "\n",
    "chat = ChatDownloader().get_chat(url)       # create a generator\n",
    "message_list = []\n",
    "\n",
    "for message in chat:                        # iterate over messages\n",
    "    message_list.append([message['time_in_seconds'], message['message']])"
   ]
  },
  {
   "cell_type": "code",
   "execution_count": 4,
   "id": "ea91bef2-12ab-4e86-9902-b803e93365b1",
   "metadata": {
    "tags": []
   },
   "outputs": [],
   "source": [
    "df = pd.DataFrame(data=message_list, columns=['time', 'message'])"
   ]
  },
  {
   "cell_type": "code",
   "execution_count": 6,
   "id": "1388c12f-30d7-4e1e-a9e4-4626d6021f2b",
   "metadata": {},
   "outputs": [],
   "source": [
    "df.to_csv('chat_' + url.replace('https://www.youtube.com/watch?v=', '') +'.csv', encoding='utf-8-sig', index=False)"
   ]
  }
 ],
 "metadata": {
  "kernelspec": {
   "display_name": "Python 3",
   "language": "python",
   "name": "python3"
  },
  "language_info": {
   "codemirror_mode": {
    "name": "ipython",
    "version": 3
   },
   "file_extension": ".py",
   "mimetype": "text/x-python",
   "name": "python",
   "nbconvert_exporter": "python",
   "pygments_lexer": "ipython3",
   "version": "3.8.8"
  }
 },
 "nbformat": 4,
 "nbformat_minor": 5
}
